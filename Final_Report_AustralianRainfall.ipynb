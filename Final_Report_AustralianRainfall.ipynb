{
 "cells": [
  {
   "cell_type": "markdown",
   "metadata": {},
   "source": [
    "### Predicting Australian Rainfall Tomorrow"
   ]
  },
  {
   "cell_type": "code",
   "execution_count": 2,
   "metadata": {},
   "outputs": [],
   "source": [
    "import warnings\n",
    "warnings.filterwarnings('ignore')\n",
    "\n",
    "from math import sqrt\n",
    "from scipy import stats\n",
    "from datetime import datetime\n",
    "\n",
    "from sklearn.model_selection import train_test_split\n",
    "from sklearn.tree import DecisionTreeClassifier, plot_tree, export_text\n",
    "from sklearn.model_selection import train_test_split\n",
    "import sklearn.metrics\n",
    "from sklearn.ensemble import RandomForestClassifier\n",
    "from sklearn.neighbors import KNeighborsClassifier\n",
    "from sklearn.preprocessing import LabelEncoder\n",
    "from sklearn.metrics import confusion_matrix\n",
    "from sklearn.metrics import classification_report\n",
    "from sklearn.linear_model import LogisticRegression\n",
    "\n",
    "%matplotlib inline\n",
    "import matplotlib.pyplot as plt\n",
    "import numpy as np\n",
    "import pandas as pd\n",
    "import seaborn as sns\n",
    "\n",
    "import acquire as a\n",
    "import prepare as p\n",
    "import model as m"
   ]
  },
  {
   "cell_type": "markdown",
   "metadata": {},
   "source": [
    "### Executive Summary"
   ]
  },
  {
   "cell_type": "markdown",
   "metadata": {},
   "source": [
    "Executive Summary\n",
    "The purpose of this notebook is to acquire, prep, explore a csv file downloaded from kaggle.com that contains Australian rainfall data and use it to predict whether it will rain tomorrow (the day after each observations recorded date)\n",
    "target variable: raintom\n",
    "After visual exploration and statistical testing the features that were inputted into our models were\n",
    "\n",
    " - Humidity3pm\n",
    " - raintod\n",
    " - Rainfall\n",
    " - Humidity9am\n",
    " - Pressure3pm\n",
    " - Pressure9am\n",
    "\n",
    "Our most successful model that was used on our Out-of-sample (test) dataframe was the K Neareast Neighbor model which performed with the folling metrics:\n",
    "\n",
    "Accuracy: \n",
    "True Positive Rate: \n",
    "True Negative Rate: \n",
    "False Positive Rate: \n",
    "False Negative Rate: \n",
    "Overall the modeling and project was a success and you can follow the steps below to reproduce it!\n",
    "\n",
    "Link to dataset: https://www.kaggle.com/jsphyg/weather-dataset-rattle-package?select=weatherAUS.csv"
   ]
  }
 ],
 "metadata": {
  "kernelspec": {
   "display_name": "Python 3",
   "language": "python",
   "name": "python3"
  },
  "language_info": {
   "codemirror_mode": {
    "name": "ipython",
    "version": 3
   },
   "file_extension": ".py",
   "mimetype": "text/x-python",
   "name": "python",
   "nbconvert_exporter": "python",
   "pygments_lexer": "ipython3",
   "version": "3.8.5"
  }
 },
 "nbformat": 4,
 "nbformat_minor": 4
}
